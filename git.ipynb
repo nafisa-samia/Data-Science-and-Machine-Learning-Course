{
 "cells": [
  {
   "cell_type": "markdown",
   "metadata": {
    "id": "UqOsq2lSrWYm"
   },
   "source": [
    "\n",
    "## 01. Git refresher\n",
    "\n",
    "**Important** \n",
    "\n",
    "<font color=\"red\">\n",
    "Make sure that Git is installed on your machine. To verify, open a shell and type the command `git`. If this fails, follow the necessary steps to install Git.\n",
    "</font>\n",
    "\n",
    "### Goal\n",
    "Explain the essential steps to interact with version control tool `Git`.\n",
    "\n",
    "\n",
    "### Information\n",
    "<img src=\"https://git-scm.com/images/logo@2x.png\" width=200px />\n",
    "\n",
    "> Git is a free and open source distributed version control system designed to handle everything from small to very large projects with speed and efficiency.\n",
    "\n",
    "* [Home of Git](https://git-scm.com/)\n",
    "* [Installation of Git on Windows](https://git-scm.com/download/win)\n",
    "* [Documentation of Git](https://git-scm.com/docs)\n",
    "\n",
    "### enabiling the 2 factor auth:\n",
    "\n",
    "* https://docs.github.com/en/free-pro-team@latest/github/authenticating-to-github/configuring-two-factor-authentication\n",
    "\n",
    "\n",
    "### install and configure git :\n",
    "\n",
    "*  git config --global user.name \"your_username\"\n",
    "*  git config --global user.email \"your_email\"\n",
    "\n",
    "\n",
    "Important commands:\n",
    "\n",
    "| Description                 | Command            |\n",
    "| --------------------------- | ------------------ |\n",
    "| Start a Git repository      | `git init`         |\n",
    "| Check the status of the repo| `git status`       |\n",
    "| Add all (changed) files to commit     | `git add .` |\n",
    "| Add a specific file to commit | `git add myfile.py` |\n",
    "| Commit to Git | `git commit -m 'My commit message' `|\n",
    "| Push to Git | `git push origin branch` |\n",
    "| Pull from Git | `git pull origin branch` |\n",
    "| Create branch | `git checkout -b my-branch` |\n",
    "| Clone repository | `git clone myrepo.git` |\n",
    "| viewing the diff before staged | `git diff` |\n",
    "| viewing the diff after staged | `git diff --staged` |\n",
    "| see the specific change in a commit| `git show [hash]` |\n",
    "| merge branch| `git merge` |\n",
    "\n"
   ]
  },
  {
   "cell_type": "markdown",
   "metadata": {},
   "source": [
    "# Merge conflict\n",
    "Resolve conflict Methods\n",
    "\n",
    "| Description                 | Command            |\n",
    "| --------------------------- | ------------------ |\n",
    "| abort the merge   | `git merge --abort`         |\n",
    "| use graphical mergetool | `git mergetool`       |\n",
    "| Declare whose file to keep   | `git checkout --ours .` |\n",
    "| remove file from git cache | `git rm --cached` |\n",
    "\n",
    "\n"
   ]
  },
  {
   "cell_type": "markdown",
   "metadata": {
    "id": "Ix2KjAEYrWYt"
   },
   "source": [
    "### Example\n",
    "The following example shows how to clone a repository, create a new branch, add a file to it and commit it back to the respository.\n",
    "\n",
    "Clone the repository:\n",
    "\n",
    "```shell\n",
    "$ git clone https://github.com/bhuwanKarki/tutorials.git\n",
    "```\n",
    "\n",
    "Navigate into the folder:\n",
    "\n",
    "```bash\n",
    "$ cd tutorials\n",
    "```\n",
    "\n",
    "Check the file status:\n",
    "\n",
    "```bash\n",
    "tutorials(master) $ git status\n",
    "```\n",
    "\n",
    "Create a new branch:\n",
    "\n",
    "```bash\n",
    "tutorials (master) $ git checkout -b my-branch\n",
    "```\n",
    "\n",
    "Write some string to a text file:\n",
    "\n",
    "```bash\n",
    "tutorials(my-branch) $ echo \"testfile\" >> testfile.txt\n",
    "```\n",
    "\n",
    "Add the file to the repository:\n",
    "\n",
    "```bash\n",
    "tutorials (my-branch) $ git add testfile.txt\n",
    "```\n",
    "\n",
    "Check the file is added to the repo:\n",
    "\n",
    "```bash\n",
    "tutorials (my-branch) $ git status\n",
    "```\n",
    "\n",
    "Commit the file to Git:\n",
    "\n",
    "```bash\n",
    "tutorials (my-branch) $ git commit -m 'Added testfile'\n",
    "```\n",
    "\n",
    "Push the changes to the remote on BitBucket:\n",
    "\n",
    "```bash\n",
    "tutorials (my-branch) $ git push\n",
    "```\n",
    "\n",
    "Switch to the master branch:\n",
    "\n",
    "```bash\n",
    "tutorials(my-branch) $ git checkout master\n",
    "```\n",
    "\n",
    "Merge the branch we just created into master:\n",
    "\n",
    "```bash\n",
    "tutorials (master) $ git merge my-branch\n",
    "```"
   ]
  },
  {
   "cell_type": "markdown",
   "metadata": {
    "id": "lGQ1GO1urWYu"
   },
   "source": [
    "### Optional Git tools\n",
    "\n",
    "There are also tools to work with Git using a GUI. Checkout the pages for installation instructions.\n",
    "\n",
    "#### SourceTree\n",
    "<img src=\"https://www.sourcetreeapp.com/dam/jcr:f32681c1-355d-4806-b29c-319b0c6ecb06/Sourcetree-blue.svg?cdnVersion=kq\" width=200/>\n",
    "\n",
    "> Sourcetree simplifies how you interact with your Git repositories so you can focus on coding. Visualize and manage your repositories through Sourcetree's simple Git GUI.\n",
    "\n",
    "[Home of SourceTree](https://www.sourcetreeapp.com/)\n"
   ]
  },
  {
   "cell_type": "markdown",
   "metadata": {
    "id": "EcXLhudarWYu"
   },
   "source": [
    "#### SmartGit\n",
    "\n",
    "<img src=\"https://www.syntevo.com/assets/images/logos/smartgit-8c1aa1e2.svg\" width=100 />\n",
    "\n",
    "> SmartGit is a Git client with support for GitHub Pull Requests+Comments and SVN. It runs on Mac OS X, Windows and Linux.\n",
    "\n",
    "[Home of SmartGit](https://www.syntevo.com/smartgit/)"
   ]
  },
  {
   "cell_type": "markdown",
   "metadata": {
    "id": "M8n03tvErWYu"
   },
   "source": [
    "# Recommended site to follow"
   ]
  },
  {
   "cell_type": "markdown",
   "metadata": {
    "id": "g9iUztDdrWYv"
   },
   "source": [
    "\n",
    "https://blog.teamtreehouse.com/git-for-designers-part-1\n",
    "\n",
    "http://rogerdudler.github.io/git-guide/\n",
    "\n",
    "https://wildlyinaccurate.com/a-hackers-guide-to-git/#pushing\n",
    "\n",
    "https://learngitbranching.js.org/\n",
    "\n",
    "https://lab.github.com/\n",
    "\n",
    "\n",
    "\n"
   ]
  },
  {
   "cell_type": "markdown",
   "metadata": {
    "id": "iFfngZCRrWYv"
   },
   "source": []
  },
  {
   "cell_type": "markdown",
   "metadata": {
    "id": "OICPfs5SrWYv"
   },
   "source": [
    "## make your own github vitae (portfolio) and host it :\n",
    "\n",
    "https://guides.github.com/features/pages/\n",
    "\n",
    "### fork the repo and edit it to make your portfolio\n",
    "https://github.com/jekyller/vitae\n",
    "\n",
    "\n",
    "https://github.com/RyanFitzgerald/devportfolio\n",
    "\n",
    "https://jekyllthemes.io/free\n"
   ]
  },
  {
   "cell_type": "markdown",
   "metadata": {
    "id": "ziTIF-LcrWYw"
   },
   "source": [
    "https://jarv.is/notes/how-to-pull-request-fork-github/"
   ]
  },
  {
   "cell_type": "markdown",
   "metadata": {},
   "source": [
    "https://towardsdatascience.com/git-commands-data-scientists-use-on-a-day-to-day-basis-40d588cd63f7"
   ]
  }
 ],
 "metadata": {
  "colab": {
   "name": "git.ipynb",
   "provenance": []
  },
  "kernelspec": {
   "display_name": "Python 3",
   "language": "python",
   "name": "python3"
  },
  "language_info": {
   "codemirror_mode": {
    "name": "ipython",
    "version": 3
   },
   "file_extension": ".py",
   "mimetype": "text/x-python",
   "name": "python",
   "nbconvert_exporter": "python",
   "pygments_lexer": "ipython3",
   "version": "3.8.5"
  },
  "toc": {
   "base_numbering": 1,
   "nav_menu": {},
   "number_sections": true,
   "sideBar": true,
   "skip_h1_title": false,
   "title_cell": "Table of Contents",
   "title_sidebar": "Contents",
   "toc_cell": false,
   "toc_position": {},
   "toc_section_display": true,
   "toc_window_display": false
  },
  "varInspector": {
   "cols": {
    "lenName": 16,
    "lenType": 16,
    "lenVar": 40
   },
   "kernels_config": {
    "python": {
     "delete_cmd_postfix": "",
     "delete_cmd_prefix": "del ",
     "library": "var_list.py",
     "varRefreshCmd": "print(var_dic_list())"
    },
    "r": {
     "delete_cmd_postfix": ") ",
     "delete_cmd_prefix": "rm(",
     "library": "var_list.r",
     "varRefreshCmd": "cat(var_dic_list()) "
    }
   },
   "types_to_exclude": [
    "module",
    "function",
    "builtin_function_or_method",
    "instance",
    "_Feature"
   ],
   "window_display": false
  }
 },
 "nbformat": 4,
 "nbformat_minor": 1
}
